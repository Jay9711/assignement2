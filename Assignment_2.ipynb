{
  "cells": [
    {
      "cell_type": "markdown",
      "metadata": {
        "id": "view-in-github",
        "colab_type": "text"
      },
      "source": [
        "<a href=\"https://colab.research.google.com/github/Jay9711/assignement2/blob/main/Assignment_2.ipynb\" target=\"_parent\"><img src=\"https://colab.research.google.com/assets/colab-badge.svg\" alt=\"Open In Colab\"/></a>"
      ]
    },
    {
      "cell_type": "code",
      "execution_count": 8,
      "metadata": {
        "id": "rNa1TsY-QhlR"
      },
      "outputs": [],
      "source": [
        "from google.colab import drive\n",
        "import pandas as pd\n",
        "import csv"
      ]
    },
    {
      "cell_type": "code",
      "source": [
        "with open('./rt_reviews.csv', mode = 'r',encoding='latin-1') as file:\n",
        "  csvfile = csv.reader(file)\n",
        "  loopon = False\n",
        "  freshness =[]\n",
        "  review = []\n",
        "  for lines in csvfile:\n",
        "    if loopon == False:\n",
        "      loopon = True\n",
        "      continue\n",
        "    freshness.append(lines[0])\n",
        "    review.append(lines[1])\n",
        "    \n",
        "  print(f'Total count in freshness : {len(freshness)}')\n",
        "  print(f'Total review in reviews : {len(review)}')"
      ],
      "metadata": {
        "colab": {
          "base_uri": "https://localhost:8080/"
        },
        "id": "D9weNgSVilYK",
        "outputId": "718b5b9c-1bbc-487a-fe13-b86088aacca2"
      },
      "execution_count": 20,
      "outputs": [
        {
          "output_type": "stream",
          "name": "stdout",
          "text": [
            "Total count in freshness : 480000\n",
            "Total review in reviews : 480000\n"
          ]
        }
      ]
    },
    {
      "cell_type": "code",
      "source": [
        "i = 0\n",
        "print(\"LET US SEE THE FIRST 10 LINES\")\n",
        "while i<10:\n",
        "  print(f'{freshness[i]} | {review[i]}')\n",
        "  i+=1"
      ],
      "metadata": {
        "colab": {
          "base_uri": "https://localhost:8080/"
        },
        "id": "NmmpX0VkbJZ7",
        "outputId": "ef6f2ed6-55a8-4df3-c215-622dc1cfb5d9"
      },
      "execution_count": 22,
      "outputs": [
        {
          "output_type": "stream",
          "name": "stdout",
          "text": [
            "LET US SEE THE FIRST 10 LINES\n",
            "fresh |  Manakamana doesn't answer any questions, yet makes its point: Nepal, like the rest of our planet, is a picturesque but far from peaceable kingdom.\n",
            "fresh |  Wilfully offensive and powered by a chest-thumping machismo, but it's good clean fun.\n",
            "rotten |  It would be difficult to imagine material more wrong for Spade than Lost & Found.\n",
            "rotten |  Despite the gusto its star brings to the role, it's hard to ride shotgun on Hector's voyage of discovery.\n",
            "rotten |  If there was a good idea at the core of this film, it's been buried in an unsightly pile of flatulence jokes, dog-related bad puns and a ridiculous serial arson plot.\n",
            "rotten |  Gleeson goes the Hallmark Channel route, damaging an intermittently curious entry in the time travel subgenre.\n",
            "fresh |  It was the height of satire in 1976: dark as hell, but patently absurd and surely nowhere close to objective reality. Objective reality surpassed it somewhere in the Jerry Springer era.\n",
            "rotten |  Everyone in \"The Comedian\" deserves a better movie than \"The Comedian.\"\n",
            "rotten |  Actor encourages grumpy Christians to embrace the season.\n",
            "fresh |  Slight, contained, but ineffably soulful.\n"
          ]
        }
      ]
    },
    {
      "cell_type": "code",
      "source": [
        "\n",
        "# dividing it into train , development and testing \n",
        "# I read a couple of documents and saw 80% train, 10% development , 10% Test\n",
        "\n",
        "freshness_train = []\n",
        "freshness_development = []\n",
        "freshness_test = []\n",
        "review_train = []\n",
        "review_development = []\n",
        "review_test = []\n",
        "\n",
        "train_count = round(len(freshness)*.8)\n",
        "development_count = round(len(freshness)*.9)\n",
        "\n",
        "for i in range(len(freshness)):\n",
        "  if i< train_count:\n",
        "    freshness_train.append(freshness[i])\n",
        "    review_train.append(review[i])\n",
        "  elif i> train_count and i<development_count:\n",
        "    freshness_development.append(freshness[i])\n",
        "    review_development.append(review[i])\n",
        "  elif i> development_count:\n",
        "    freshness_test.append(freshness[i])\n",
        "    review_test.append(review[i])\n",
        "print(f'Training  = {len(freshness_train)} \\n Development =  {len(freshness_development)} \\n Testing = {len(freshness_test)}')\n",
        "\n"
      ],
      "metadata": {
        "colab": {
          "base_uri": "https://localhost:8080/"
        },
        "id": "176Zok7Xb5pP",
        "outputId": "8258b079-d6cc-48ad-bbaf-d7c5ec79c14f"
      },
      "execution_count": 28,
      "outputs": [
        {
          "output_type": "stream",
          "name": "stdout",
          "text": [
            "Training  = 384000 \n",
            " Development =  47999 \n",
            " Testing = 47999\n"
          ]
        }
      ]
    },
    {
      "cell_type": "code",
      "source": [],
      "metadata": {
        "id": "8l7pNVytsO7H"
      },
      "execution_count": null,
      "outputs": []
    }
  ],
  "metadata": {
    "colab": {
      "provenance": [],
      "mount_file_id": "1YZrl6mxkO39RIqv1JREL6JDW7gr5vYwR",
      "authorship_tag": "ABX9TyO6P5rF3DWnNFqICtMj0Tbd",
      "include_colab_link": true
    },
    "kernelspec": {
      "display_name": "Python 3",
      "name": "python3"
    },
    "language_info": {
      "name": "python"
    }
  },
  "nbformat": 4,
  "nbformat_minor": 0
}