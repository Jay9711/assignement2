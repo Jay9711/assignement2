{
  "cells": [
    {
      "cell_type": "markdown",
      "metadata": {
        "id": "view-in-github",
        "colab_type": "text"
      },
      "source": [
        "<a href=\"https://colab.research.google.com/github/Jay9711/assignement2/blob/main/Assignment_2.ipynb\" target=\"_parent\"><img src=\"https://colab.research.google.com/assets/colab-badge.svg\" alt=\"Open In Colab\"/></a>"
      ]
    },
    {
      "cell_type": "code",
      "execution_count": 1,
      "metadata": {
        "id": "rNa1TsY-QhlR"
      },
      "outputs": [],
      "source": [
        "from google.colab import drive\n",
        "import pandas as pd\n",
        "import csv"
      ]
    },
    {
      "cell_type": "code",
      "source": [
        "with open('./rt_reviews.csv', mode = 'r',encoding='latin-1') as file:\n",
        "  csvfile = csv.reader(file)\n",
        "  loopon = False\n",
        "  freshness =[]\n",
        "  review = []\n",
        "  for lines in csvfile:\n",
        "    if loopon == False:\n",
        "      loopon = True\n",
        "      continue\n",
        "    freshness.append(lines[0])\n",
        "    review.append(lines[1])\n",
        "    \n",
        "  print(f'Total count in freshness : {len(freshness)}')\n",
        "  print(f'Total review in reviews : {len(review)}')"
      ],
      "metadata": {
        "colab": {
          "base_uri": "https://localhost:8080/"
        },
        "id": "D9weNgSVilYK",
        "outputId": "993f73bb-5d3c-40db-f152-d1145da615e0"
      },
      "execution_count": 3,
      "outputs": [
        {
          "output_type": "stream",
          "name": "stdout",
          "text": [
            "Total count in freshness : 480000\n",
            "Total review in reviews : 480000\n"
          ]
        }
      ]
    },
    {
      "cell_type": "code",
      "source": [
        "i = 0\n",
        "print(\"LET US SEE THE FIRST 10 LINES\")\n",
        "while i<10:\n",
        "  print(f'{freshness[i]} | {review[i]}')\n",
        "  i+=1"
      ],
      "metadata": {
        "colab": {
          "base_uri": "https://localhost:8080/"
        },
        "id": "NmmpX0VkbJZ7",
        "outputId": "8146f962-4414-4922-cb94-c06e32fb66de"
      },
      "execution_count": 4,
      "outputs": [
        {
          "output_type": "stream",
          "name": "stdout",
          "text": [
            "LET US SEE THE FIRST 10 LINES\n",
            "fresh |  Manakamana doesn't answer any questions, yet makes its point: Nepal, like the rest of our planet, is a picturesque but far from peaceable kingdom.\n",
            "fresh |  Wilfully offensive and powered by a chest-thumping machismo, but it's good clean fun.\n",
            "rotten |  It would be difficult to imagine material more wrong for Spade than Lost & Found.\n",
            "rotten |  Despite the gusto its star brings to the role, it's hard to ride shotgun on Hector's voyage of discovery.\n",
            "rotten |  If there was a good idea at the core of this film, it's been buried in an unsightly pile of flatulence jokes, dog-related bad puns and a ridiculous serial arson plot.\n",
            "rotten |  Gleeson goes the Hallmark Channel route, damaging an intermittently curious entry in the time travel subgenre.\n",
            "fresh |  It was the height of satire in 1976: dark as hell, but patently absurd and surely nowhere close to objective reality. Objective reality surpassed it somewhere in the Jerry Springer era.\n",
            "rotten |  Everyone in \"The Comedian\" deserves a better movie than \"The Comedian.\"\n",
            "rotten |  Actor encourages grumpy Christians to embrace the season.\n",
            "fresh |  Slight, contained, but ineffably soulful.\n"
          ]
        }
      ]
    },
    {
      "cell_type": "code",
      "source": [
        "\n",
        "# dividing it into train , development and testing \n",
        "# I read a couple of documents and saw 80% train, 10% development , 10% Test\n",
        "\n",
        "freshness_train = []\n",
        "freshness_development = []\n",
        "freshness_test = []\n",
        "review_train = []\n",
        "review_development = []\n",
        "review_test = []\n",
        "\n",
        "train_count = round(len(freshness)*.8)\n",
        "development_count = round(len(freshness)*.9)\n",
        "\n",
        "for i in range(len(freshness)):\n",
        "  if i< train_count:\n",
        "    freshness_train.append(freshness[i])\n",
        "    review_train.append(review[i])\n",
        "  elif i> train_count and i<development_count:\n",
        "    freshness_development.append(freshness[i])\n",
        "    review_development.append(review[i])\n",
        "  elif i> development_count:\n",
        "    freshness_test.append(freshness[i])\n",
        "    review_test.append(review[i])\n",
        "print(f'Training  = {len(freshness_train)} \\n Development =  {len(freshness_development)} \\n Testing = {len(freshness_test)}')\n",
        "\n"
      ],
      "metadata": {
        "colab": {
          "base_uri": "https://localhost:8080/"
        },
        "id": "176Zok7Xb5pP",
        "outputId": "f7eb1933-6be1-4d75-e2bc-9647b06afdd2"
      },
      "execution_count": 5,
      "outputs": [
        {
          "output_type": "stream",
          "name": "stdout",
          "text": [
            "Training  = 384000 \n",
            " Development =  47999 \n",
            " Testing = 47999\n"
          ]
        }
      ]
    },
    {
      "cell_type": "code",
      "source": [
        "fresh = 0\n",
        "for i in range(len(freshness_train)):\n",
        "  if freshness_train[i]=='fresh':\n",
        "    fresh+=1\n",
        "\n",
        "p_fresh = fresh/len(freshness_train)\n",
        "p_rotten = 1-p_fresh\n",
        "print(f' Probabilty of Freshness - {p_fresh}')\n",
        "print(f'Probability of Rotten - {p_rotten}')"
      ],
      "metadata": {
        "colab": {
          "base_uri": "https://localhost:8080/"
        },
        "id": "8l7pNVytsO7H",
        "outputId": "104feea8-ac81-47a1-dc44-8a380125fbd4"
      },
      "execution_count": 35,
      "outputs": [
        {
          "output_type": "stream",
          "name": "stdout",
          "text": [
            " Probabilty of Freshness - 0.500796875\n",
            "Probability of Rotten - 0.49920312499999997\n"
          ]
        }
      ]
    },
    {
      "cell_type": "code",
      "source": [
        "from collections import defaultdict\n",
        "count_occurances = {}\n",
        "temp = 0\n",
        "for i in range(len(review_train)):\n",
        "  if freshness_train[i] == 'fresh':\n",
        "    temp+=1\n",
        "    for j in review_train[i].split():\n",
        "      if j in count_occurances.keys():\n",
        "        count_occurances[j]+=1\n",
        "      else:\n",
        "        count_occurances[j]=1\n",
        "p_W_Positive = {}\n",
        "for i,j in count_occurances.items():\n",
        "   p_W_Positive[i]=j/temp\n",
        "# -----------------------------------------------------------------------------------------------------------------------\n",
        "count_occurances = {}\n",
        "temp = 0\n",
        "for i in range(len(review_train)):\n",
        "  if freshness_train[i] == 'rotten':\n",
        "    temp+=1\n",
        "    for j in review_train[i].split():\n",
        "      if j in count_occurances.keys():\n",
        "        count_occurances[j]+=1\n",
        "      else:\n",
        "        count_occurances[j]=1\n",
        "  \n",
        "p_W_Negative = {}\n",
        "for i,j in count_occurances.items():\n",
        "   p_W_Negative[i]=j/temp\n",
        "\n",
        "\n",
        "  # if review_train[i] in count_occurances.keys():\n",
        "  #   count_occurances[review_train[i]]+=1\n",
        "  # else:\n",
        "  #   count_occurances[review_train[i]]=1"
      ],
      "metadata": {
        "colab": {
          "base_uri": "https://localhost:8080/"
        },
        "id": "E0kDP51mgki9",
        "outputId": "c790d8ad-d625-4ba4-f466-51a094bef008"
      },
      "execution_count": 37,
      "outputs": [
        {
          "output_type": "stream",
          "name": "stdout",
          "text": [
            "Manakamana 2.0800183041610766e-05\n",
            "It 0.03797197617035484\n",
            "Manakamana 2.0800183041610766e-05\n",
            "It 0.03797197617035484\n",
            "Manakamana 2.0800183041610766e-05\n",
            "It 0.03797197617035484\n",
            "Manakamana 2.0800183041610766e-05\n",
            "It 0.03797197617035484\n",
            "Manakamana 2.0800183041610766e-05\n",
            "It 0.03797197617035484\n"
          ]
        }
      ]
    },
    {
      "cell_type": "code",
      "source": [
        "dev_result_pos = []\n",
        "for i in range(len(review_development)):\n",
        "  p_sum = 1\n",
        "  for j in review_development[i].split():\n",
        "    if j in p_W_Positive.keys():\n",
        "      p_sum*=p_W_Positive[j]\n",
        "  if p_sum ==1:\n",
        "    dev_result_pos.append(0)\n",
        "  else:\n",
        "    p_sum=p_sum*p_fresh\n",
        "    dev_result_pos.append(p_sum)\n",
        "\n",
        "dev_result_neg = []\n",
        "for i in range(len(review_development)):\n",
        "  p_sum = 1\n",
        "  for j in review_development[i].split():\n",
        "    if j in p_W_Negative.keys():\n",
        "      p_sum*=p_W_Negative[j]\n",
        "  if p_sum ==1:\n",
        "    dev_result_neg.append(0)\n",
        "  else:\n",
        "    p_sum=p_sum*p_fresh\n",
        "    dev_result_neg.append(p_sum)\n"
      ],
      "metadata": {
        "id": "HmL34v461xHj"
      },
      "execution_count": 44,
      "outputs": []
    },
    {
      "cell_type": "code",
      "source": [
        "# making Prediction for development \n",
        "pred = []\n",
        "for i in range(len(dev_result_pos)):\n",
        "  if dev_result_neg[i]>dev_result_pos[i]:\n",
        "    pred.append('rotten')\n",
        "  else:\n",
        "    pred.append('fresh')"
      ],
      "metadata": {
        "id": "GH-mBmwP-e-_"
      },
      "execution_count": 47,
      "outputs": []
    },
    {
      "cell_type": "code",
      "source": [
        "#checking accuracy \n",
        "# print(len(pred),len(freshness_development))\n",
        "correct = 0\n",
        "for i in range(len(pred)):\n",
        "  if pred[i]== freshness_development[i]:\n",
        "    correct+=1\n",
        "print(f'Accuracy = {round(correct/len(pred)*100)} %')"
      ],
      "metadata": {
        "colab": {
          "base_uri": "https://localhost:8080/"
        },
        "id": "15UJ0ikB_vXx",
        "outputId": "eef6d619-8a71-4ae4-9edd-3f165470f968"
      },
      "execution_count": 52,
      "outputs": [
        {
          "output_type": "stream",
          "name": "stdout",
          "text": [
            "47999 47999\n",
            "Accuracy = 55 %\n"
          ]
        }
      ]
    }
  ],
  "metadata": {
    "colab": {
      "provenance": [],
      "mount_file_id": "1YZrl6mxkO39RIqv1JREL6JDW7gr5vYwR",
      "authorship_tag": "ABX9TyOub/CMDw2uPSjb4eogF4n/",
      "include_colab_link": true
    },
    "kernelspec": {
      "display_name": "Python 3",
      "name": "python3"
    },
    "language_info": {
      "name": "python"
    }
  },
  "nbformat": 4,
  "nbformat_minor": 0
}