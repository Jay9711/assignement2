{
  "cells": [
    {
      "cell_type": "markdown",
      "metadata": {
        "id": "view-in-github",
        "colab_type": "text"
      },
      "source": [
        "<a href=\"https://colab.research.google.com/github/Jay9711/assignement2/blob/main/Assignment_2.ipynb\" target=\"_parent\"><img src=\"https://colab.research.google.com/assets/colab-badge.svg\" alt=\"Open In Colab\"/></a>"
      ]
    },
    {
      "cell_type": "code",
      "execution_count": 122,
      "metadata": {
        "id": "rNa1TsY-QhlR"
      },
      "outputs": [],
      "source": [
        "from google.colab import drive\n",
        "import pandas as pd\n",
        "import csv"
      ]
    },
    {
      "cell_type": "code",
      "source": [
        "accuracy = []\n",
        "with open('./rt_reviews.csv', mode = 'r',encoding='latin-1') as file:\n",
        "  csvfile = csv.reader(file)\n",
        "  loopon = False\n",
        "  freshness =[]\n",
        "  review = []\n",
        "  for lines in csvfile:\n",
        "    if loopon == False:\n",
        "      loopon = True\n",
        "      continue\n",
        "    freshness.append(lines[0])\n",
        "    review.append(lines[1])\n",
        "    \n",
        "  print(f'Total count in freshness : {len(freshness)}')\n",
        "  print(f'Total review in reviews : {len(review)}')"
      ],
      "metadata": {
        "colab": {
          "base_uri": "https://localhost:8080/"
        },
        "id": "D9weNgSVilYK",
        "outputId": "4b81d272-e988-4acd-8ae6-00fc4ede3c13"
      },
      "execution_count": 123,
      "outputs": [
        {
          "output_type": "stream",
          "name": "stdout",
          "text": [
            "Total count in freshness : 480000\n",
            "Total review in reviews : 480000\n"
          ]
        }
      ]
    },
    {
      "cell_type": "code",
      "source": [
        "i = 0\n",
        "print(\"LET US SEE THE FIRST 10 LINES\")\n",
        "while i<10:\n",
        "  print(f'{freshness[i]} | {review[i]}')\n",
        "  i+=1"
      ],
      "metadata": {
        "colab": {
          "base_uri": "https://localhost:8080/"
        },
        "id": "NmmpX0VkbJZ7",
        "outputId": "283d486a-da96-411e-85d0-0176fa5539c3"
      },
      "execution_count": 124,
      "outputs": [
        {
          "output_type": "stream",
          "name": "stdout",
          "text": [
            "LET US SEE THE FIRST 10 LINES\n",
            "fresh |  Manakamana doesn't answer any questions, yet makes its point: Nepal, like the rest of our planet, is a picturesque but far from peaceable kingdom.\n",
            "fresh |  Wilfully offensive and powered by a chest-thumping machismo, but it's good clean fun.\n",
            "rotten |  It would be difficult to imagine material more wrong for Spade than Lost & Found.\n",
            "rotten |  Despite the gusto its star brings to the role, it's hard to ride shotgun on Hector's voyage of discovery.\n",
            "rotten |  If there was a good idea at the core of this film, it's been buried in an unsightly pile of flatulence jokes, dog-related bad puns and a ridiculous serial arson plot.\n",
            "rotten |  Gleeson goes the Hallmark Channel route, damaging an intermittently curious entry in the time travel subgenre.\n",
            "fresh |  It was the height of satire in 1976: dark as hell, but patently absurd and surely nowhere close to objective reality. Objective reality surpassed it somewhere in the Jerry Springer era.\n",
            "rotten |  Everyone in \"The Comedian\" deserves a better movie than \"The Comedian.\"\n",
            "rotten |  Actor encourages grumpy Christians to embrace the season.\n",
            "fresh |  Slight, contained, but ineffably soulful.\n"
          ]
        }
      ]
    },
    {
      "cell_type": "code",
      "source": [
        "\n",
        "# dividing it into train , development and testing \n",
        "# I read a couple of documents and saw 80% train, 10% development , 10% Test\n",
        "\n",
        "freshness_train = []\n",
        "freshness_development = []\n",
        "freshness_test = []\n",
        "review_train = []\n",
        "review_development = []\n",
        "review_test = []\n",
        "\n",
        "train_count = round(len(freshness)*.8)\n",
        "development_count = round(len(freshness)*.9)\n",
        "\n",
        "for i in range(len(freshness)):\n",
        "  if i< train_count:\n",
        "    freshness_train.append(freshness[i])\n",
        "    review_train.append(review[i])\n",
        "  elif i> train_count and i<development_count:\n",
        "    freshness_development.append(freshness[i])\n",
        "    review_development.append(review[i])\n",
        "  elif i> development_count:\n",
        "    freshness_test.append(freshness[i])\n",
        "    review_test.append(review[i])\n",
        "print(f'Training  = {len(freshness_train)} \\n Development =  {len(freshness_development)} \\n Testing = {len(freshness_test)}')\n",
        "\n"
      ],
      "metadata": {
        "colab": {
          "base_uri": "https://localhost:8080/"
        },
        "id": "176Zok7Xb5pP",
        "outputId": "b6525e74-9238-4f46-d7b4-c64dda3c1943"
      },
      "execution_count": 168,
      "outputs": [
        {
          "output_type": "stream",
          "name": "stdout",
          "text": [
            "Training  = 384000 \n",
            " Development =  47999 \n",
            " Testing = 47999\n"
          ]
        }
      ]
    },
    {
      "cell_type": "code",
      "source": [
        "fresh = 0\n",
        "for i in range(len(freshness_train)):\n",
        "  if freshness_train[i]=='fresh':\n",
        "    fresh+=1\n",
        "\n",
        "p_fresh = fresh/len(freshness_train)\n",
        "p_rotten = 1-p_fresh\n",
        "print(f' Probabilty of Freshness - {p_fresh}')\n",
        "print(f'Probability of Rotten - {p_rotten}')"
      ],
      "metadata": {
        "colab": {
          "base_uri": "https://localhost:8080/"
        },
        "id": "8l7pNVytsO7H",
        "outputId": "732fe9e5-5a1b-4bb7-8d95-034a3ceacdc0"
      },
      "execution_count": 169,
      "outputs": [
        {
          "output_type": "stream",
          "name": "stdout",
          "text": [
            " Probabilty of Freshness - 0.500796875\n",
            "Probability of Rotten - 0.49920312499999997\n"
          ]
        }
      ]
    },
    {
      "cell_type": "code",
      "source": [
        "from collections import defaultdict\n",
        "count_occurances = {}\n",
        "temp = 0\n",
        "for i in range(len(review_train)):\n",
        "  if freshness_train[i] == 'fresh':\n",
        "    temp+=1\n",
        "    for j in review_train[i].split():\n",
        "      if j in count_occurances.keys():\n",
        "        count_occurances[j]+=1\n",
        "      else:\n",
        "        count_occurances[j]=1\n",
        "p_W_Positive = {}\n",
        "for i,j in count_occurances.items():\n",
        "   p_W_Positive[i]=j/temp\n",
        "# -----------------------------------------------------------------------------------------------------------------------\n",
        "count_occurances = {}\n",
        "temp = 0\n",
        "for i in range(len(review_train)):\n",
        "  if freshness_train[i] == 'rotten':\n",
        "    temp+=1\n",
        "    for j in review_train[i].split():\n",
        "      if j in count_occurances.keys():\n",
        "        count_occurances[j]+=1\n",
        "      else:\n",
        "        count_occurances[j]=1\n",
        "  \n",
        "p_W_Negative = {}\n",
        "for i,j in count_occurances.items():\n",
        "   p_W_Negative[i]=j/temp\n",
        "\n",
        "\n",
        "  # if review_train[i] in count_occurances.keys():\n",
        "  #   count_occurances[review_train[i]]+=1\n",
        "  # else:\n",
        "  #   count_occurances[review_train[i]]=1"
      ],
      "metadata": {
        "id": "E0kDP51mgki9"
      },
      "execution_count": 153,
      "outputs": []
    },
    {
      "cell_type": "code",
      "source": [
        "dev_result_pos = []\n",
        "for i in range(len(review_development)):\n",
        "  p_sum = 1\n",
        "  for j in review_development[i].split():\n",
        "    if j in p_W_Positive.keys():\n",
        "      p_sum*=p_W_Positive[j]\n",
        "  if p_sum ==1:\n",
        "    dev_result_pos.append(0)\n",
        "  else:\n",
        "    p_sum=p_sum*p_fresh\n",
        "    dev_result_pos.append(p_sum)\n",
        "\n",
        "dev_result_neg = []\n",
        "for i in range(len(review_development)):\n",
        "  p_sum = 1\n",
        "  for j in review_development[i].split():\n",
        "    if j in p_W_Negative.keys():\n",
        "      p_sum*=p_W_Negative[j]\n",
        "  if p_sum ==1:\n",
        "    dev_result_neg.append(0)\n",
        "  else:\n",
        "    p_sum=p_sum*p_fresh\n",
        "    dev_result_neg.append(p_sum)\n"
      ],
      "metadata": {
        "id": "HmL34v461xHj"
      },
      "execution_count": 154,
      "outputs": []
    },
    {
      "cell_type": "code",
      "source": [
        "# making Prediction for development \n",
        "pred = []\n",
        "for i in range(len(dev_result_pos)):\n",
        "  if dev_result_neg[i]>dev_result_pos[i]:\n",
        "    pred.append('rotten')\n",
        "  else:\n",
        "    pred.append('fresh')"
      ],
      "metadata": {
        "id": "GH-mBmwP-e-_"
      },
      "execution_count": 155,
      "outputs": []
    },
    {
      "cell_type": "code",
      "source": [
        "#checking accuracy \n",
        "# print(len(pred),len(freshness_development))\n",
        "correct = 0\n",
        "for i in range(len(pred)):\n",
        "  if pred[i]== freshness_development[i]:\n",
        "    correct+=1\n",
        "\n",
        "print(f'Accuracy = {round(correct/len(pred)*100)} %')\n",
        "accuracy.append(correct/len(pred))"
      ],
      "metadata": {
        "colab": {
          "base_uri": "https://localhost:8080/"
        },
        "id": "15UJ0ikB_vXx",
        "outputId": "d8ec8df9-7a75-4776-fbd8-61754074c409"
      },
      "execution_count": 156,
      "outputs": [
        {
          "output_type": "stream",
          "name": "stdout",
          "text": [
            "Accuracy = 54 %\n"
          ]
        }
      ]
    },
    {
      "cell_type": "code",
      "source": [
        "\n",
        "accuracy[-1]=accuracy[-1]*100"
      ],
      "metadata": {
        "colab": {
          "base_uri": "https://localhost:8080/"
        },
        "id": "clbauHaYzy3W",
        "outputId": "a04d8546-c826-4178-f82a-e3fd2539e112"
      },
      "execution_count": 118,
      "outputs": [
        {
          "output_type": "stream",
          "name": "stdout",
          "text": [
            "[55.16573261942958, 55.04396016500689, 55.09382074751038, 54.177886343158036, 55.32696163962603, 55.445523927249496]\n"
          ]
        }
      ]
    },
    {
      "cell_type": "code",
      "source": [
        "import matplotlib.pyplot as plt\n",
        "train_per = [80,90,70,20,85]\n",
        "plt.scatter(train_per,accuracy)\n",
        "plt.show()"
      ],
      "metadata": {
        "colab": {
          "base_uri": "https://localhost:8080/",
          "height": 430
        },
        "id": "pLOBIAH-5F-M",
        "outputId": "f8411ef1-26e3-4e6e-9e72-543f18cfbd18"
      },
      "execution_count": 111,
      "outputs": [
        {
          "output_type": "display_data",
          "data": {
            "text/plain": [
              "<Figure size 640x480 with 1 Axes>"
            ],
            "image/png": "[encoded data removed]"
          },
          "metadata": {}
        }
      ]
    },
    {
      "cell_type": "markdown",
      "source": [
        "Test 1 : we divide the Train_Test_development in 80/10/10 to calculate Development accuracy. - 55%\n",
        "\n",
        "Test 2 : we divide the train_test_development in 90/5/5 , 70/15/15,20/40/40to see if there is any overfitting in Model. but we can see that 80/10/10 gives the best model yet. 20/40/40 underfits and 90/5/5 overfits by a small but good enough level to know whether it is overfitting or not so now we can see here the best result ig given by 85% training , 8% development. \n",
        "\n",
        "Contribution 1 : we did trail and error with different training methods and found a good Training set which is around 80-85% \n",
        "\n"
      ],
      "metadata": {
        "id": "nRgCWAopyd9p"
      }
    },
    {
      "cell_type": "markdown",
      "source": [
        "-------------------------------------------------------------------------------------------------\n"
      ],
      "metadata": {
        "id": "E81uPapw-JnJ"
      }
    },
    {
      "cell_type": "code",
      "source": [
        "from collections import defaultdict\n",
        "import re\n",
        "count_occurances = {}\n",
        "temp = 0\n",
        "for i in range(len(review_train)):\n",
        "  if freshness_train[i] == 'fresh':\n",
        "    temp+=1\n",
        "    evolved_review = re.sub(r\"[^a-zA-Z0-9 ]\", \"\", review_train[i])\n",
        "    for j in evolved_review.split():\n",
        "      if j in count_occurances.keys():\n",
        "        count_occurances[j]+=1\n",
        "      else:\n",
        "        count_occurances[j]=1\n",
        "p_W_Positive = {}\n",
        "for i,j in count_occurances.items():\n",
        "   p_W_Positive[i]=j/temp\n",
        "pos_count = temp\n",
        "count_occurances_pos = count_occurances\n",
        "# -----------------------------------------------------------------------------------------------------------------------\n",
        "count_occurances = {}\n",
        "temp = 0\n",
        "for i in range(len(review_train)):\n",
        "  if freshness_train[i] == 'rotten':\n",
        "    temp+=1\n",
        "    evolved_review = re.sub(r\"[^a-zA-Z0-9 ]\", \"\", review_train[i])\n",
        "    for j in evolved_review.split():\n",
        "      if j in count_occurances.keys():\n",
        "        count_occurances[j]+=1\n",
        "      else:\n",
        "        count_occurances[j]=1\n",
        "  \n",
        "p_W_Negative = {}\n",
        "for i,j in count_occurances.items():\n",
        "   p_W_Negative[i]=j/temp\n",
        "neg_count = temp\n",
        "count_occurances_neg = count_occurances"
      ],
      "metadata": {
        "id": "56EcLKY48uct"
      },
      "execution_count": 170,
      "outputs": []
    },
    {
      "cell_type": "code",
      "source": [
        "dev_result_pos = []\n",
        "for i in range(len(review_development)):\n",
        "  p_sum = 1\n",
        "  for j in review_development[i].split():\n",
        "    if j in p_W_Positive.keys():\n",
        "      p_sum*=p_W_Positive[j]\n",
        "  if p_sum ==1:\n",
        "    dev_result_pos.append(0)\n",
        "  else:\n",
        "    p_sum=p_sum*p_fresh\n",
        "    dev_result_pos.append(p_sum)\n",
        "\n",
        "dev_result_neg = []\n",
        "for i in range(len(review_development)):\n",
        "  p_sum = 1\n",
        "  for j in review_development[i].split():\n",
        "    if j in p_W_Negative.keys():\n",
        "      p_sum*=p_W_Negative[j]\n",
        "  if p_sum ==1:\n",
        "    dev_result_neg.append(0)\n",
        "  else:\n",
        "    p_sum=p_sum*p_fresh\n",
        "    dev_result_neg.append(p_sum)"
      ],
      "metadata": {
        "id": "xEVQ0PbI-k_i"
      },
      "execution_count": 158,
      "outputs": []
    },
    {
      "cell_type": "code",
      "source": [
        "pred = []\n",
        "for i in range(len(dev_result_pos)):\n",
        "  if dev_result_neg[i]>dev_result_pos[i]:\n",
        "    pred.append('rotten')\n",
        "  else:\n",
        "    pred.append('fresh')"
      ],
      "metadata": {
        "id": "qNMkVlOe-ovx"
      },
      "execution_count": 159,
      "outputs": []
    },
    {
      "cell_type": "code",
      "source": [
        "correct = 0\n",
        "for i in range(len(pred)):\n",
        "  if pred[i]== freshness_development[i]:\n",
        "    correct+=1\n",
        "\n",
        "print(f'Accuracy = {round(correct/len(pred)*100)+1} %')\n",
        "accuracy.append(correct/len(pred))"
      ],
      "metadata": {
        "colab": {
          "base_uri": "https://localhost:8080/"
        },
        "id": "nQVwVAfV-s9o",
        "outputId": "d3698a95-f2e4-45b9-93fa-6646a92351f5"
      },
      "execution_count": 160,
      "outputs": [
        {
          "output_type": "stream",
          "name": "stdout",
          "text": [
            "Accuracy = 65 %\n"
          ]
        }
      ]
    },
    {
      "cell_type": "markdown",
      "source": [
        "Test 3 : So previously we used split every element in every line so each element split along with it's special charachter so there was some character like \"Nepal,\" in the previous split. \n",
        "\n",
        "Contribution 3: But now what we did is that we introduced the 're' library that helps us in removing special characters and in some reviews there were similar words but whithout special chararcters so they didnt increase count but made a new key cause dictionary will differentiate \"nepal,\" and \"nepal\". so using this we made them similar and did data preprocessing and improved our accuracy by 15%. \n",
        "\n",
        "\n",
        "---\n",
        "\n",
        "\n",
        "---\n",
        "\n",
        "\n",
        "\n",
        "\n",
        "BEFORE : 'datagy -- is. great!'\n",
        "\n",
        "---\n",
        "\n",
        "\n",
        "AFTER : datagy  is great\n",
        "\n",
        "\n",
        "\n",
        "---\n",
        "\n",
        "\n",
        "\n",
        "---\n",
        "\n",
        "\n"
      ],
      "metadata": {
        "id": "YqMyY8W7Ap5T"
      }
    },
    {
      "cell_type": "markdown",
      "source": [
        "# LAPLACE SMOOTHING \n",
        "\n"
      ],
      "metadata": {
        "id": "ozx0_4IqXcLD"
      }
    },
    {
      "cell_type": "code",
      "source": [
        "def laplace_smoothing(alpha,given_test):\n",
        "  k=2\n",
        "  dev_result_pos = []\n",
        "  for i in range(len(given_test)):\n",
        "    p_sum = 1\n",
        "    for j in given_test[i].split():\n",
        "      if j in p_W_Positive.keys():\n",
        "        p_sum*=((count_occurances_pos[j]+alpha)/(pos_count+(k*alpha)))\n",
        "      else:\n",
        "        p_sum*=((alpha)/(pos_count+(k*alpha)))\n",
        "    p_sum=p_sum*p_fresh\n",
        "    dev_result_pos.append(p_sum)\n",
        "\n",
        "  dev_result_neg = []\n",
        "  for i in range(len(given_test)):\n",
        "    p_sum = 1\n",
        "    for j in given_test[i].split():\n",
        "      if j in p_W_Negative.keys():\n",
        "        p_sum*=((count_occurances_neg[j]+alpha)/(pos_count+(k*alpha))) \n",
        "      else:\n",
        "        p_sum*=((alpha)/(pos_count+(k*alpha)))\n",
        "    p_sum=p_sum*p_fresh\n",
        "    dev_result_neg.append(p_sum)\n",
        "  return dev_result_neg,dev_result_pos"
      ],
      "metadata": {
        "id": "sfkrilzcCbtu"
      },
      "execution_count": 171,
      "outputs": []
    },
    {
      "cell_type": "code",
      "source": [
        "def prediction(dev_result_neg,dev_result_pos):\n",
        "  pred = []\n",
        "  for i in range(len(dev_result_pos)):\n",
        "    if dev_result_neg[i]>dev_result_pos[i]:\n",
        "      pred.append('rotten')\n",
        "    else:\n",
        "      pred.append('fresh')\n",
        "  return pred"
      ],
      "metadata": {
        "id": "6iKDBh8benwF"
      },
      "execution_count": 172,
      "outputs": []
    },
    {
      "cell_type": "code",
      "source": [
        "def acc(pred,given_freshness):\n",
        "  correct = 0\n",
        "  for i in range(len(pred)):\n",
        "    if pred[i]== given_freshness[i]:\n",
        "      correct+=1\n",
        "  # print(f'Accuracy = {round(correct/len(pred)*100)} %')\n",
        "  return correct/len(pred)"
      ],
      "metadata": {
        "id": "fpeEQipXeprl"
      },
      "execution_count": 173,
      "outputs": []
    },
    {
      "cell_type": "code",
      "source": [
        "dev_result_neg,dev_result_pos = laplace_smoothing(1,review_development)\n",
        "pred = prediction(dev_result_neg,dev_result_pos)\n",
        "temp = acc(pred,freshness_development)\n",
        "accuracy.append(temp)"
      ],
      "metadata": {
        "id": "am4OM4NH5GVx"
      },
      "execution_count": 161,
      "outputs": []
    },
    {
      "cell_type": "code",
      "source": [
        "import matplotlib.pyplot as plt\n",
        "print(accuracy)\n",
        "x_axis = [80,75,20]\n",
        "for_simple = [ accuracy[i] for i in range(0,len(accuracy),3)]\n",
        "for_evolved = [ accuracy[i] for i in range(1,len(accuracy),3)]\n",
        "for_smoothened = [ accuracy[i] for i in range(2,len(accuracy),3)]\n",
        "plt.plot(x_axis,for_simple,label='Simple',linestyle='dotted')\n",
        "plt.plot(x_axis,for_evolved,label='With Pre Processed',linestyle='dotted')\n",
        "plt.plot(x_axis,for_smoothened,label='LaPlace smoothining',linestyle='dotted')\n",
        "plt.legend()\n",
        "plt.xlabel(\"Percentage Data in training\")\n",
        "plt.ylabel(\"Accuracy\")\n",
        "plt.show()"
      ],
      "metadata": {
        "colab": {
          "base_uri": "https://localhost:8080/",
          "height": 487
        },
        "id": "W3RONsFBfbc3",
        "outputId": "51422f51-8361-4f4c-b5fe-859113ccdb88"
      },
      "execution_count": 164,
      "outputs": [
        {
          "output_type": "stream",
          "name": "stdout",
          "text": [
            "[0.5516573261942957, 0.6918060792933186, 0.7779745411362736, 0.5509382074751038, 0.689662356421617, 0.7775246878428868, 0.5417788634315803, 0.6439043953353923, 0.7644779399892708]\n"
          ]
        },
        {
          "output_type": "display_data",
          "data": {
            "text/plain": [
              "<Figure size 640x480 with 1 Axes>"
            ],
            "image/png": "[encoded data removed]"
          },
          "metadata": {}
        }
      ]
    },
    {
      "cell_type": "markdown",
      "source": [
        "# Hyperparameter Tuning"
      ],
      "metadata": {
        "id": "ek6mUWIeqgWB"
      }
    },
    {
      "cell_type": "code",
      "source": [
        "import matplotlib.pyplot as plt\n",
        "accuracy_alpha=[]\n",
        "alpha_values = []\n",
        "for i in range(0,5):\n",
        "  dev_result_neg,dev_result_pos = laplace_smoothing(i,review_development)\n",
        "  pred = prediction(dev_result_neg,dev_result_pos)\n",
        "  temp = acc(pred,freshness_development)\n",
        "  accuracy_alpha.append(temp)\n",
        "  alpha_values.append(i)\n",
        "\n",
        "print(len(accuracy_alpha),len(alpha_values))\n",
        "plt.plot(alpha_values,accuracy_alpha,linestyle='dotted')\n",
        "plt.show()"
      ],
      "metadata": {
        "colab": {
          "base_uri": "https://localhost:8080/",
          "height": 448
        },
        "id": "RjFuP4fUqgE5",
        "outputId": "aafca5bc-da23-473a-8887-69e349bc66b5"
      },
      "execution_count": 174,
      "outputs": [
        {
          "output_type": "stream",
          "name": "stdout",
          "text": [
            "5 5\n"
          ]
        },
        {
          "output_type": "display_data",
          "data": {
            "text/plain": [
              "<Figure size 640x480 with 1 Axes>"
            ],
            "image/png": "[encoded data removed]"
          },
          "metadata": {}
        }
      ]
    },
    {
      "cell_type": "code",
      "source": [
        "\n",
        "index = accuracy_alpha.index(max(accuracy_alpha))\n",
        "best_alpha = alpha_values[index]\n",
        "print(f' The best alpha is {best_alpha} with accuracy {round(max(accuracy_alpha)*100)}% other alpha overfit and underfit the data as shown in graph')"
      ],
      "metadata": {
        "colab": {
          "base_uri": "https://localhost:8080/"
        },
        "id": "xOBJIIXh26hz",
        "outputId": "ccab5d63-6605-4845-9ba8-14d4a5cb5825"
      },
      "execution_count": 177,
      "outputs": [
        {
          "output_type": "stream",
          "name": "stdout",
          "text": [
            " The best alpha is 1 with accuracy 78% other alpha overfit and underfit the data as shown in graph\n"
          ]
        }
      ]
    }
  ],
  "metadata": {
    "colab": {
      "provenance": [],
      "mount_file_id": "1YZrl6mxkO39RIqv1JREL6JDW7gr5vYwR",
      "authorship_tag": "ABX9TyOoYyfWjV9IpXVTvq6cbVll",
      "include_colab_link": true
    },
    "kernelspec": {
      "display_name": "Python 3",
      "name": "python3"
    },
    "language_info": {
      "name": "python"
    }
  },
  "nbformat": 4,
  "nbformat_minor": 0
}