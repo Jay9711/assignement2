{
  "cells": [
    {
      "cell_type": "markdown",
      "metadata": {
        "id": "view-in-github",
        "colab_type": "text"
      },
      "source": [
        "<a href=\"https://colab.research.google.com/github/Jay9711/assignement2/blob/main/Assignment_2.ipynb\" target=\"_parent\"><img src=\"https://colab.research.google.com/assets/colab-badge.svg\" alt=\"Open In Colab\"/></a>"
      ]
    },
    {
      "cell_type": "code",
      "execution_count": 3,
      "metadata": {
        "id": "rNa1TsY-QhlR"
      },
      "outputs": [],
      "source": [
        "from google.colab import drive\n",
        "import csv\n",
        "import matplotlib.pyplot as plt\n",
        "from collections import defaultdict"
      ]
    },
    {
      "cell_type": "code",
      "source": [
        "accuracy = []\n",
        "with open('./rt_reviews.csv', mode = 'r',encoding='latin-1') as file:\n",
        "  csvfile = csv.reader(file)\n",
        "  loopon = False\n",
        "  freshness =[]\n",
        "  review = []\n",
        "  for lines in csvfile:\n",
        "    if loopon == False:\n",
        "      loopon = True\n",
        "      continue\n",
        "    freshness.append(lines[0])\n",
        "    review.append(lines[1])\n",
        "    \n",
        "  print(f'Total count in freshness : {len(freshness)}')\n",
        "  print(f'Total review in reviews : {len(review)}')"
      ],
      "metadata": {
        "colab": {
          "base_uri": "https://localhost:8080/"
        },
        "id": "D9weNgSVilYK",
        "outputId": "47daffd6-8d96-44da-edfe-0f4bf3c9f33f"
      },
      "execution_count": 4,
      "outputs": [
        {
          "output_type": "stream",
          "name": "stdout",
          "text": [
            "Total count in freshness : 480000\n",
            "Total review in reviews : 480000\n"
          ]
        }
      ]
    },
    {
      "cell_type": "code",
      "source": [
        "i = 0\n",
        "print(\"LET US SEE THE FIRST 10 LINES\")\n",
        "while i<10:\n",
        "  print(f'{freshness[i]} | {review[i]}')\n",
        "  i+=1"
      ],
      "metadata": {
        "colab": {
          "base_uri": "https://localhost:8080/"
        },
        "id": "NmmpX0VkbJZ7",
        "outputId": "05d009a8-87df-45ee-a0f4-b2d2268251d1"
      },
      "execution_count": 5,
      "outputs": [
        {
          "output_type": "stream",
          "name": "stdout",
          "text": [
            "LET US SEE THE FIRST 10 LINES\n",
            "fresh |  Manakamana doesn't answer any questions, yet makes its point: Nepal, like the rest of our planet, is a picturesque but far from peaceable kingdom.\n",
            "fresh |  Wilfully offensive and powered by a chest-thumping machismo, but it's good clean fun.\n",
            "rotten |  It would be difficult to imagine material more wrong for Spade than Lost & Found.\n",
            "rotten |  Despite the gusto its star brings to the role, it's hard to ride shotgun on Hector's voyage of discovery.\n",
            "rotten |  If there was a good idea at the core of this film, it's been buried in an unsightly pile of flatulence jokes, dog-related bad puns and a ridiculous serial arson plot.\n",
            "rotten |  Gleeson goes the Hallmark Channel route, damaging an intermittently curious entry in the time travel subgenre.\n",
            "fresh |  It was the height of satire in 1976: dark as hell, but patently absurd and surely nowhere close to objective reality. Objective reality surpassed it somewhere in the Jerry Springer era.\n",
            "rotten |  Everyone in \"The Comedian\" deserves a better movie than \"The Comedian.\"\n",
            "rotten |  Actor encourages grumpy Christians to embrace the season.\n",
            "fresh |  Slight, contained, but ineffably soulful.\n"
          ]
        }
      ]
    },
    {
      "cell_type": "code",
      "source": [
        "\n",
        "# dividing it into train , development and testing \n",
        "# I read a couple of documents and saw 80% train, 10% development , 10% Test\n",
        "\n",
        "freshness_train = []\n",
        "freshness_development = []\n",
        "freshness_test = []\n",
        "review_train = []\n",
        "review_development = []\n",
        "review_test = []\n",
        "\n",
        "train_count = round(len(freshness)*.8)\n",
        "development_count = round(len(freshness)*.9)\n",
        "\n",
        "for i in range(len(freshness)):\n",
        "  if i< train_count:\n",
        "    freshness_train.append(freshness[i])\n",
        "    review_train.append(review[i])\n",
        "  elif i> train_count and i<development_count:\n",
        "    freshness_development.append(freshness[i])\n",
        "    review_development.append(review[i])\n",
        "  elif i> development_count:\n",
        "    freshness_test.append(freshness[i])\n",
        "    review_test.append(review[i])\n",
        "print(f'Training  = {len(freshness_train)} \\n Development =  {len(freshness_development)} \\n Testing = {len(freshness_test)}')\n",
        "\n"
      ],
      "metadata": {
        "colab": {
          "base_uri": "https://localhost:8080/"
        },
        "id": "176Zok7Xb5pP",
        "outputId": "78616880-210b-4012-c63f-56065336c557"
      },
      "execution_count": 6,
      "outputs": [
        {
          "output_type": "stream",
          "name": "stdout",
          "text": [
            "Training  = 384000 \n",
            " Development =  47999 \n",
            " Testing = 47999\n"
          ]
        }
      ]
    },
    {
      "cell_type": "code",
      "source": [
        "fresh = 0\n",
        "for i in range(len(freshness_train)):\n",
        "  if freshness_train[i]=='fresh':\n",
        "    fresh+=1\n",
        "\n",
        "p_fresh = fresh/len(freshness_train)\n",
        "p_rotten = 1-p_fresh\n",
        "print(f' Probabilty of Freshness - {p_fresh}')\n",
        "print(f'Probability of Rotten - {p_rotten}')"
      ],
      "metadata": {
        "colab": {
          "base_uri": "https://localhost:8080/"
        },
        "id": "8l7pNVytsO7H",
        "outputId": "fad35186-e2af-4c24-ecbb-06d7896adbe7"
      },
      "execution_count": 7,
      "outputs": [
        {
          "output_type": "stream",
          "name": "stdout",
          "text": [
            " Probabilty of Freshness - 0.500796875\n",
            "Probability of Rotten - 0.49920312499999997\n"
          ]
        }
      ]
    },
    {
      "cell_type": "code",
      "source": [
        "\n",
        "count_occurances = {}\n",
        "temp = 0\n",
        "for i in range(len(review_train)):\n",
        "  if freshness_train[i] == 'fresh':\n",
        "    temp+=1\n",
        "    for j in review_train[i].split():\n",
        "      if j in count_occurances.keys():\n",
        "        count_occurances[j]+=1\n",
        "      else:\n",
        "        count_occurances[j]=1\n",
        "p_W_Positive = {}\n",
        "for i,j in count_occurances.items():\n",
        "   p_W_Positive[i]=j/temp\n",
        "# -----------------------------------------------------------------------------------------------------------------------\n",
        "count_occurances = {}\n",
        "temp = 0\n",
        "for i in range(len(review_train)):\n",
        "  if freshness_train[i] == 'rotten':\n",
        "    temp+=1\n",
        "    for j in review_train[i].split():\n",
        "      if j in count_occurances.keys():\n",
        "        count_occurances[j]+=1\n",
        "      else:\n",
        "        count_occurances[j]=1\n",
        "  \n",
        "p_W_Negative = {}\n",
        "for i,j in count_occurances.items():\n",
        "   p_W_Negative[i]=j/temp\n",
        "\n",
        "\n",
        " "
      ],
      "metadata": {
        "id": "E0kDP51mgki9"
      },
      "execution_count": 8,
      "outputs": []
    },
    {
      "cell_type": "code",
      "source": [
        "dev_result_pos = []\n",
        "for i in range(len(review_development)):\n",
        "  p_sum = 1\n",
        "  for j in review_development[i].split():\n",
        "    if j in p_W_Positive.keys():\n",
        "      p_sum*=p_W_Positive[j]\n",
        "  if p_sum ==1:\n",
        "    dev_result_pos.append(0)\n",
        "  else:\n",
        "    p_sum=p_sum*p_fresh\n",
        "    dev_result_pos.append(p_sum)\n",
        "\n",
        "dev_result_neg = []\n",
        "for i in range(len(review_development)):\n",
        "  p_sum = 1\n",
        "  for j in review_development[i].split():\n",
        "    if j in p_W_Negative.keys():\n",
        "      p_sum*=p_W_Negative[j]\n",
        "  if p_sum ==1:\n",
        "    dev_result_neg.append(0)\n",
        "  else:\n",
        "    p_sum=p_sum*p_fresh\n",
        "    dev_result_neg.append(p_sum)\n"
      ],
      "metadata": {
        "id": "HmL34v461xHj"
      },
      "execution_count": 9,
      "outputs": []
    },
    {
      "cell_type": "code",
      "source": [
        "# making Prediction for development \n",
        "pred = []\n",
        "for i in range(len(dev_result_pos)):\n",
        "  if dev_result_neg[i]>dev_result_pos[i]:\n",
        "    pred.append('rotten')\n",
        "  else:\n",
        "    pred.append('fresh')"
      ],
      "metadata": {
        "id": "GH-mBmwP-e-_"
      },
      "execution_count": 10,
      "outputs": []
    },
    {
      "cell_type": "code",
      "source": [
        "#checking accuracy \n",
        "# print(len(pred),len(freshness_development))\n",
        "correct = 0\n",
        "for i in range(len(pred)):\n",
        "  if pred[i]== freshness_development[i]:\n",
        "    correct+=1\n",
        "\n",
        "print(f'Accuracy = {round(correct/len(pred)*100)} %')\n",
        "accuracy.append(correct/len(pred))"
      ],
      "metadata": {
        "colab": {
          "base_uri": "https://localhost:8080/"
        },
        "id": "15UJ0ikB_vXx",
        "outputId": "9599f6c4-b2a0-48d3-fca1-dd0eb4217a09"
      },
      "execution_count": 11,
      "outputs": [
        {
          "output_type": "stream",
          "name": "stdout",
          "text": [
            "Accuracy = 55 %\n"
          ]
        }
      ]
    },
    {
      "cell_type": "code",
      "source": [
        "\n",
        "accuracy[-1]=accuracy[-1]*100"
      ],
      "metadata": {
        "colab": {
          "base_uri": "https://localhost:8080/"
        },
        "id": "clbauHaYzy3W",
        "outputId": "a04d8546-c826-4178-f82a-e3fd2539e112"
      },
      "execution_count": 118,
      "outputs": [
        {
          "output_type": "stream",
          "name": "stdout",
          "text": [
            "[55.16573261942958, 55.04396016500689, 55.09382074751038, 54.177886343158036, 55.32696163962603, 55.445523927249496]\n"
          ]
        }
      ]
    },
    {
      "cell_type": "code",
      "source": [
        "import matplotlib.pyplot as plt\n",
        "train_per = [80,90,70,20,85]\n",
        "acc_simple= [55.16573261942958, 55.04396016500689, 55.09382074751038, 54.177886343158036, 55.32696163962603]\n",
        "plt.scatter(train_per,acc_simple)\n",
        "plt.xlabel('Train data %')\n",
        "plt.ylabel('Accuracy %')\n",
        "plt.show()"
      ],
      "metadata": {
        "colab": {
          "base_uri": "https://localhost:8080/",
          "height": 449
        },
        "id": "pLOBIAH-5F-M",
        "outputId": "00010969-c04f-4314-bd29-fe9ec36cd467"
      },
      "execution_count": 25,
      "outputs": [
        {
          "output_type": "display_data",
          "data": {
            "text/plain": [
              "<Figure size 640x480 with 1 Axes>"
            ],
            "image/png": "[encoded data removed]"
          },
          "metadata": {}
        }
      ]
    },
    {
      "cell_type": "markdown",
      "source": [
        "Test 1 : we divide the Train_Test_development in 80/10/10 to calculate Development accuracy. - 55%\n",
        "\n",
        "Test 2 : we divide the train_test_development in 90/5/5 , 70/15/15,20/40/40to see if there is any overfitting in Model. but we can see that 80/10/10 gives the best model yet. 20/40/40 underfits and 90/5/5 overfits by a small but good enough level to know whether it is overfitting or not so now we can see here the best result ig given by 85% training , 8% development. \n",
        "\n",
        "Contribution 1 : we did trail and error with different training methods and found a good Training set which is around 80-85% \n",
        "\n"
      ],
      "metadata": {
        "id": "nRgCWAopyd9p"
      }
    },
    {
      "cell_type": "markdown",
      "source": [
        "-------------------------------------------------------------------------------------------------\n"
      ],
      "metadata": {
        "id": "E81uPapw-JnJ"
      }
    },
    {
      "cell_type": "code",
      "source": [
        "from collections import defaultdict\n",
        "import re\n",
        "count_occurances = {}\n",
        "temp = 0\n",
        "for i in range(len(review_train)):\n",
        "  if freshness_train[i] == 'fresh':\n",
        "    temp+=1\n",
        "    evolved_review = re.sub(r\"[^a-zA-Z0-9 ]\", \"\", review_train[i])\n",
        "    for j in evolved_review.split():\n",
        "      if j in count_occurances.keys():\n",
        "        count_occurances[j]+=1\n",
        "      else:\n",
        "        count_occurances[j]=1\n",
        "p_W_Positive = {}\n",
        "for i,j in count_occurances.items():\n",
        "   p_W_Positive[i]=j/temp\n",
        "pos_count = temp\n",
        "count_occurances_pos = count_occurances\n",
        "# -----------------------------------------------------------------------------------------------------------------------\n",
        "count_occurances = {}\n",
        "temp = 0\n",
        "for i in range(len(review_train)):\n",
        "  if freshness_train[i] == 'rotten':\n",
        "    temp+=1\n",
        "    evolved_review = re.sub(r\"[^a-zA-Z0-9 ]\", \"\", review_train[i])\n",
        "    for j in evolved_review.split():\n",
        "      if j in count_occurances.keys():\n",
        "        count_occurances[j]+=1\n",
        "      else:\n",
        "        count_occurances[j]=1\n",
        "  \n",
        "p_W_Negative = {}\n",
        "for i,j in count_occurances.items():\n",
        "   p_W_Negative[i]=j/temp\n",
        "neg_count = temp\n",
        "count_occurances_neg = count_occurances"
      ],
      "metadata": {
        "id": "56EcLKY48uct"
      },
      "execution_count": 12,
      "outputs": []
    },
    {
      "cell_type": "code",
      "source": [
        "dev_result_pos = []\n",
        "for i in range(len(review_development)):\n",
        "  p_sum = 1\n",
        "  for j in review_development[i].split():\n",
        "    if j in p_W_Positive.keys():\n",
        "      p_sum*=p_W_Positive[j]\n",
        "  if p_sum ==1:\n",
        "    dev_result_pos.append(0)\n",
        "  else:\n",
        "    p_sum=p_sum*p_fresh\n",
        "    dev_result_pos.append(p_sum)\n",
        "\n",
        "dev_result_neg = []\n",
        "for i in range(len(review_development)):\n",
        "  p_sum = 1\n",
        "  for j in review_development[i].split():\n",
        "    if j in p_W_Negative.keys():\n",
        "      p_sum*=p_W_Negative[j]\n",
        "  if p_sum ==1:\n",
        "    dev_result_neg.append(0)\n",
        "  else:\n",
        "    p_sum=p_sum*p_fresh\n",
        "    dev_result_neg.append(p_sum)"
      ],
      "metadata": {
        "id": "xEVQ0PbI-k_i"
      },
      "execution_count": 13,
      "outputs": []
    },
    {
      "cell_type": "code",
      "source": [
        "pred = []\n",
        "for i in range(len(dev_result_pos)):\n",
        "  if dev_result_neg[i]>dev_result_pos[i]:\n",
        "    pred.append('rotten')\n",
        "  else:\n",
        "    pred.append('fresh')"
      ],
      "metadata": {
        "id": "qNMkVlOe-ovx"
      },
      "execution_count": 14,
      "outputs": []
    },
    {
      "cell_type": "code",
      "source": [
        "correct = 0\n",
        "for i in range(len(pred)):\n",
        "  if pred[i]== freshness_development[i]:\n",
        "    correct+=1\n",
        "\n",
        "print(f'Accuracy = {round(correct/len(pred)*100)+1} %')\n",
        "accuracy.append(correct/len(pred))"
      ],
      "metadata": {
        "colab": {
          "base_uri": "https://localhost:8080/"
        },
        "id": "nQVwVAfV-s9o",
        "outputId": "f2ac0a7b-abbf-4506-9469-2de3caf227c6"
      },
      "execution_count": 15,
      "outputs": [
        {
          "output_type": "stream",
          "name": "stdout",
          "text": [
            "Accuracy = 70 %\n"
          ]
        }
      ]
    },
    {
      "cell_type": "markdown",
      "source": [
        "Test 3 : So previously we used split every element in every line so each element split along with it's special charachter so there was some character like \"Nepal,\" in the previous split. \n",
        "\n",
        "Contribution 3: But now what we did is that we introduced the 're' library that helps us in removing special characters and in some reviews there were similar words but whithout special chararcters so they didnt increase count but made a new key cause dictionary will differentiate \"nepal,\" and \"nepal\". so using this we made them similar and did data preprocessing and improved our accuracy by 15%. \n",
        "\n",
        "\n",
        "---\n",
        "\n",
        "\n",
        "---\n",
        "\n",
        "\n",
        "\n",
        "\n",
        "BEFORE : 'datagy -- is. great!'\n",
        "\n",
        "---\n",
        "\n",
        "\n",
        "AFTER : datagy  is great\n",
        "\n",
        "\n",
        "\n",
        "---\n",
        "\n",
        "\n",
        "\n",
        "---\n",
        "\n",
        "\n"
      ],
      "metadata": {
        "id": "YqMyY8W7Ap5T"
      }
    },
    {
      "cell_type": "markdown",
      "source": [
        "#More PreProcess DATA"
      ],
      "metadata": {
        "id": "zkhZkyxnNcyB"
      }
    },
    {
      "cell_type": "code",
      "source": [
        "from collections import defaultdict\n",
        "import re\n",
        "def datapre_process():\n",
        "  count_occurances = {}\n",
        "  temp = 0\n",
        "  for i in range(len(review_train)):\n",
        "    if freshness_train[i] == 'fresh':\n",
        "      temp+=1\n",
        "      evolved_review = re.sub(r\"[^a-zA-Z0-9 ]\", \"\", review_train[i])\n",
        "      for j in evolved_review.split():\n",
        "        if j.lower() in count_occurances.keys():\n",
        "          count_occurances[j.lower()]+=1\n",
        "        else:\n",
        "          count_occurances[j.lower()]=1\n",
        "  p_W_Positive = {}\n",
        "  for i,j in count_occurances.items():\n",
        "    p_W_Positive[i]=j/temp\n",
        "  pos_count = temp\n",
        "  count_occurances_pos = count_occurances\n",
        "  # -----------------------------------------------------------------------------------------------------------------------\n",
        "  count_occurances = {}\n",
        "  temp = 0\n",
        "  for i in range(len(review_train)):\n",
        "    if freshness_train[i] == 'rotten':\n",
        "      temp+=1\n",
        "      evolved_review = re.sub(r\"[^a-zA-Z0-9 ]\", \"\", review_train[i])\n",
        "      for j in evolved_review.split():\n",
        "        if j.lower() in count_occurances.keys():\n",
        "          count_occurances[j.lower()]+=1\n",
        "        else:\n",
        "          count_occurances[j.lower()]=1\n",
        "    \n",
        "  p_W_Negative = {}\n",
        "  for i,j in count_occurances.items():\n",
        "    p_W_Negative[i]=j/temp\n",
        "  neg_count = temp\n",
        "  count_occurances_neg = count_occurances\n",
        "  return count_occurances_neg, count_occurances_pos"
      ],
      "metadata": {
        "id": "nmE3xtL1Jcvk"
      },
      "execution_count": 16,
      "outputs": []
    },
    {
      "cell_type": "markdown",
      "source": [
        "Contribution : Here we try to convert all the words to lower case letters so that we can make a more general bias but it creates very less difference in accuracy. Like it differes by 0.4.\n",
        "\n"
      ],
      "metadata": {
        "id": "PTFeyPWXNkHs"
      }
    },
    {
      "cell_type": "markdown",
      "source": [
        "# LAPLACE SMOOTHING \n",
        "\n"
      ],
      "metadata": {
        "id": "ozx0_4IqXcLD"
      }
    },
    {
      "cell_type": "code",
      "source": [
        "def laplace_smoothing(alpha,given_test,count_occurances_neg, count_occurances_pos):\n",
        "  k=2\n",
        "  dev_result_pos = []\n",
        "  for i in range(len(given_test)):\n",
        "    p_sum = 1\n",
        "    for j in given_test[i].split():\n",
        "      if j.lower() in count_occurances_pos.keys():\n",
        "        p_sum*=((count_occurances_pos[j.lower()]+alpha)/(pos_count+(k*alpha)))\n",
        "      else:\n",
        "        p_sum*=((alpha)/(pos_count+(k*alpha)))\n",
        "    p_sum=p_sum*p_fresh\n",
        "    dev_result_pos.append(p_sum)\n",
        "\n",
        "  dev_result_neg = []\n",
        "  for i in range(len(given_test)):\n",
        "    p_sum = 1\n",
        "    for j in given_test[i].split():\n",
        "      if j.lower() in count_occurances_neg.keys():\n",
        "        p_sum*=((count_occurances_neg[j.lower()]+alpha)/(pos_count+(k*alpha))) \n",
        "      else:\n",
        "        p_sum*=((alpha)/(pos_count+(k*alpha)))\n",
        "    p_sum=p_sum*p_fresh\n",
        "    dev_result_neg.append(p_sum)\n",
        "  return dev_result_neg,dev_result_pos"
      ],
      "metadata": {
        "id": "sfkrilzcCbtu"
      },
      "execution_count": 17,
      "outputs": []
    },
    {
      "cell_type": "code",
      "source": [
        "def prediction(dev_result_neg,dev_result_pos):\n",
        "  pred = []\n",
        "  for i in range(len(dev_result_pos)):\n",
        "    if dev_result_neg[i]>dev_result_pos[i]:\n",
        "      pred.append('rotten')\n",
        "    else:\n",
        "      pred.append('fresh')\n",
        "  return pred"
      ],
      "metadata": {
        "id": "6iKDBh8benwF"
      },
      "execution_count": 18,
      "outputs": []
    },
    {
      "cell_type": "code",
      "source": [
        "def acc(pred,given_freshness):\n",
        "  correct = 0\n",
        "  for i in range(len(pred)):\n",
        "    if pred[i]== given_freshness[i]:\n",
        "      correct+=1\n",
        "  # print(f'Accuracy = {round(correct/len(pred)*100)} %')\n",
        "  return correct/len(pred)"
      ],
      "metadata": {
        "id": "fpeEQipXeprl"
      },
      "execution_count": 19,
      "outputs": []
    },
    {
      "cell_type": "code",
      "source": [
        "# dev_result_neg,dev_result_pos = laplace_smoothing(1,review_development)\n",
        "# pred = prediction(dev_result_neg,dev_result_pos)\n",
        "# temp = acc(pred,freshness_development)\n",
        "# accuracy.append(temp)"
      ],
      "metadata": {
        "id": "am4OM4NH5GVx"
      },
      "execution_count": null,
      "outputs": []
    },
    {
      "cell_type": "code",
      "source": [
        "\n",
        "print(accuracy)\n",
        "x_axis = [80,75,20]\n",
        "for_simple = [ accuracy[i] for i in range(0,len(accuracy),3)]\n",
        "for_evolved = [ accuracy[i] for i in range(1,len(accuracy),3)]\n",
        "for_smoothened = [ accuracy[i] for i in range(2,len(accuracy),3)]\n",
        "plt.plot(x_axis,for_simple,label='Simple',linestyle='dotted')\n",
        "plt.plot(x_axis,for_evolved,label='With Pre Processed',linestyle='dotted')\n",
        "plt.plot(x_axis,for_smoothened,label='LaPlace smoothining',linestyle='dotted')\n",
        "plt.legend()\n",
        "plt.xlabel(\"Percentage Data in training\")\n",
        "plt.ylabel(\"Accuracy\")\n",
        "plt.show()"
      ],
      "metadata": {
        "colab": {
          "base_uri": "https://localhost:8080/",
          "height": 487
        },
        "id": "W3RONsFBfbc3",
        "outputId": "51422f51-8361-4f4c-b5fe-859113ccdb88"
      },
      "execution_count": 164,
      "outputs": [
        {
          "output_type": "stream",
          "name": "stdout",
          "text": [
            "[0.5516573261942957, 0.6918060792933186, 0.7779745411362736, 0.5509382074751038, 0.689662356421617, 0.7775246878428868, 0.5417788634315803, 0.6439043953353923, 0.7644779399892708]\n"
          ]
        },
        {
          "output_type": "display_data",
          "data": {
            "text/plain": [
              "<Figure size 640x480 with 1 Axes>"
            ],
            "image/png": "[encoded data removed]"
          },
          "metadata": {}
        }
      ]
    },
    {
      "cell_type": "markdown",
      "source": [
        "# Hyperparameter Tuning"
      ],
      "metadata": {
        "id": "ek6mUWIeqgWB"
      }
    },
    {
      "cell_type": "code",
      "source": [
        "import matplotlib.pyplot as plt\n",
        "accuracy_alpha=[]\n",
        "alpha_values = []\n",
        "for i in range(0,5):\n",
        "  count_occurances_neg, count_occurances_pos = datapre_process()\n",
        "  dev_result_neg,dev_result_pos = laplace_smoothing(i,review_development,count_occurances_neg, count_occurances_pos)\n",
        "  pred = prediction(dev_result_neg,dev_result_pos)\n",
        "  temp = acc(pred,freshness_development)\n",
        "  accuracy_alpha.append(temp)\n",
        "  alpha_values.append(i)\n",
        "\n",
        "print(len(accuracy_alpha),len(alpha_values))\n",
        "plt.plot(alpha_values,accuracy_alpha,linestyle='dotted')\n",
        "plt.show()"
      ],
      "metadata": {
        "colab": {
          "base_uri": "https://localhost:8080/",
          "height": 448
        },
        "id": "RjFuP4fUqgE5",
        "outputId": "5b8a3f80-7da6-4cdd-becd-f58b95d1eb75"
      },
      "execution_count": 22,
      "outputs": [
        {
          "output_type": "stream",
          "name": "stdout",
          "text": [
            "5 5\n"
          ]
        },
        {
          "output_type": "display_data",
          "data": {
            "text/plain": [
              "<Figure size 640x480 with 1 Axes>"
            ],
            "image/png": "[encoded data removed]"
          },
          "metadata": {}
        }
      ]
    },
    {
      "cell_type": "code",
      "source": [
        "\n",
        "index = accuracy_alpha.index(max(accuracy_alpha))\n",
        "best_alpha = alpha_values[index]\n",
        "print(f' The best alpha is {best_alpha} with accuracy {round(max(accuracy_alpha)*100)}% other alpha overfit and underfit the data as shown in graph')"
      ],
      "metadata": {
        "colab": {
          "base_uri": "https://localhost:8080/"
        },
        "id": "xOBJIIXh26hz",
        "outputId": "0f601b9d-f310-4e9f-b509-6c42a24c111b"
      },
      "execution_count": 23,
      "outputs": [
        {
          "output_type": "stream",
          "name": "stdout",
          "text": [
            " The best alpha is 1 with accuracy 78% other alpha overfit and underfit the data as shown in graph\n"
          ]
        }
      ]
    },
    {
      "cell_type": "markdown",
      "source": [
        "# Top 10 Words from each Class"
      ],
      "metadata": {
        "id": "Brh5TJad_LFm"
      }
    },
    {
      "cell_type": "code",
      "source": [
        "from heapq import nlargest\n",
        "count_occurances_pos_copy,count_occurances_neg_copy = datapre_process()\n",
        "N = 10\n",
        "res_pos = nlargest(N, count_occurances_pos_copy, key = count_occurances_pos_copy.get)\n",
        "res_neg = nlargest(N, count_occurances_neg_copy, key = count_occurances_neg_copy.get)\n",
        "print(f'Fresh : {res_pos}')\n",
        "print(f'Rotten: {res_neg}')"
      ],
      "metadata": {
        "colab": {
          "base_uri": "https://localhost:8080/"
        },
        "id": "pXq7JnwR_Jpa",
        "outputId": "f8111ecc-6190-4c0c-933a-1e6ddf83ee44"
      },
      "execution_count": 40,
      "outputs": [
        {
          "output_type": "stream",
          "name": "stdout",
          "text": [
            "Fresh : ['the', 'a', 'of', 'and', 'to', 'is', 'in', 'it', 'its', 'that']\n",
            "Rotten: ['the', 'a', 'and', 'of', 'to', 'is', 'in', 'its', 'that', 'it']\n"
          ]
        }
      ]
    },
    {
      "cell_type": "markdown",
      "source": [
        "Trying Stop Words method "
      ],
      "metadata": {
        "id": "Pb6qIXucJzvZ"
      }
    },
    {
      "cell_type": "code",
      "source": [
        "def laplace_stopwords(alpha,given_test,count_occurances_neg, count_occurances_pos):\n",
        "  k=2\n",
        "  stop_words = [\"able\",\"about\",\"above\",\"abroad\",\"according\",\"accordingly\",\"across\",\"actually\",\"adj\",\"after\",\"afterwards\",\"again\",\"against\",\"ago\",\"ahead\",\"ain't\",\"all\",\"allow\",\"allows\",\"almost\",\"alone\",\"along\",\"alongside\",\"already\",\"also\",\"although\",\"always\",\"am\",\"amid\",\"amidst\",\"among\",\"amongst\",\"an\",\"and\",\"another\",\"any\",\"anybody\",\"anyhow\",\"anyone\",\"anything\",\"anyway\",\"anyways\",\"anywhere\",\"apart\",\"appear\",\"appreciate\",\"appropriate\",\"are\",\"aren't\",\"around\",\"as\",\"a's\",\"aside\",\"ask\",\"asking\",\"associated\",\"at\",\"available\",\"away\",\"awfully\",\"back\",\"backward\",\"backwards\",\"be\",\"became\",\"because\",\"become\",\"becomes\",\"becoming\",\"been\",\"before\",\"beforehand\",\"begin\",\"behind\",\"being\",\"believe\",\"below\",\"beside\",\"besides\",\"best\",\"better\",\"between\",\"beyond\",\"both\",\"brief\",\"but\",\"by\",\"came\",\"can\",\"cannot\",\"cant\",\"can't\",\"caption\",\"cause\",\"causes\",\"certain\",\"certainly\",\"changes\",\"clearly\",\"c'mon\",\"co\",\"co.\",\"com\",\"come\",\"comes\",\"concerning\",\"consequently\",\"consider\",\"considering\",\"contain\",\"containing\",\"contains\",\"corresponding\",\"could\",\"couldn't\",\"course\",\"c's\",\"currently\",\"dare\",\"daren't\",\"definitely\",\"described\",\"despite\",\"did\",\"didn't\",\"different\",\"directly\",\"do\",\"does\",\"doesn't\",\"doing\",\"done\",\"don't\",\"down\",\"downwards\",\"during\",\"each\",\"edu\",\"eg\",\"eight\",\"eighty\",\"either\",\"else\",\"elsewhere\",\"end\",\"ending\",\"enough\",\"entirely\",\"especially\",\"et\",\"etc\",\"even\",\"ever\",\"evermore\",\"every\",\"everybody\",\"everyone\",\"everything\",\"everywhere\",\"ex\",\"exactly\",\"example\",\"except\",\"fairly\",\"far\",\"farther\",\"few\",\"fewer\",\"fifth\",\"first\",\"five\",\"followed\",\"following\",\"follows\",\"for\",\"forever\",\"former\",\"formerly\",\"forth\",\"forward\",\"found\",\"four\",\"from\",\"further\",\"furthermore\",\"get\",\"gets\",\"getting\",\"given\",\"gives\",\"go\",\"goes\",\"going\",\"gone\",\"got\",\"gotten\",\"greetings\",\"had\",\"hadn't\",\"half\",\"happens\",\"hardly\",\"has\",\"hasn't\",\"have\",\"haven't\",\"having\",\"he\",\"he'd\",\"he'll\",\"hello\",\"help\",\"hence\",\"her\",\"here\",\"hereafter\",\"hereby\",\"herein\",\"here's\",\"hereupon\",\"hers\",\"herself\",\"he's\",\"hi\",\"him\",\"himself\",\"his\",\"hither\",\"hopefully\",\"how\",\"howbeit\",\"however\",\"hundred\",\"i'd\",\"ie\",\"if\",\"ignored\",\"i'll\",\"i'm\",\"immediate\",\"in\",\"inasmuch\",\"inc\",\"inc.\",\"indeed\",\"indicate\",\"indicated\",\"indicates\",\"inner\",\"inside\",\"insofar\",\"instead\",\"into\",\"inward\",\"is\",\"isn't\",\"it\",\"it'd\",\"it'll\",\"its\",\"it's\",\"itself\",\"i've\",\"just\",\"k\",\"keep\",\"keeps\",\"kept\",\"know\",\"known\",\"knows\",\"last\",\"lately\",\"later\",\"latter\",\"latterly\",\"least\",\"less\",\"lest\",\"let\",\"let's\",\"like\",\"liked\",\"likely\",\"likewise\",\"little\",\"look\",\"looking\",\"looks\",\"low\",\"lower\",\"ltd\",\"made\",\"mainly\",\"make\",\"makes\",\"many\",\"may\",\"maybe\",\"mayn't\",\"me\",\"mean\",\"meantime\",\"meanwhile\",\"merely\",\"might\",\"mightn't\",\"mine\",\"minus\",\"miss\",\"more\",\"moreover\",\"most\",\"mostly\",\"mr\",\"mrs\",\"much\",\"must\",\"mustn't\",\"my\",\"myself\",\"name\",\"namely\",\"nd\",\"near\",\"nearly\",\"necessary\",\"need\",\"needn't\",\"needs\",\"neither\",\"never\",\"neverf\",\"neverless\",\"nevertheless\",\"new\",\"next\",\"nine\",\"ninety\",\"no\",\"nobody\",\"non\",\"none\",\"nonetheless\",\"noone\",\"no-one\",\"nor\",\"normally\",\"not\",\"nothing\",\"notwithstanding\",\"novel\",\"now\",\"nowhere\",\"obviously\",\"of\",\"off\",\"often\",\"oh\",\"ok\",\"okay\",\"old\",\"on\",\"once\",\"one\",\"ones\",\"one's\",\"only\",\"onto\",\"opposite\",\"or\",\"other\",\"others\",\"otherwise\",\"ought\",\"oughtn't\",\"our\",\"ours\",\"ourselves\",\"out\",\"outside\",\"over\",\"overall\",\"own\",\"particular\",\"particularly\",\"past\",\"per\",\"perhaps\",\"placed\",\"please\",\"plus\",\"possible\",\"presumably\",\"probably\",\"provided\",\"provides\",\"que\",\"quite\",\"qv\",\"rather\",\"rd\",\"re\",\"really\",\"reasonably\",\"recent\",\"recently\",\"regarding\",\"regardless\",\"regards\",\"relatively\",\"respectively\",\"right\",\"round\",\"said\",\"same\",\"saw\",\"say\",\"saying\",\"says\",\"second\",\"secondly\",\"see\",\"seeing\",\"seem\",\"seemed\",\"seeming\",\"seems\",\"seen\",\"self\",\"selves\",\"sensible\",\"sent\",\"serious\",\"seriously\",\"seven\",\"several\",\"shall\",\"shan't\",\"she\",\"she'd\",\"she'll\",\"she's\",\"should\",\"shouldn't\",\"since\",\"six\",\"so\",\"some\",\"somebody\",\"someday\",\"somehow\",\"someone\",\"something\",\"sometime\",\"sometimes\",\"somewhat\",\"somewhere\",\"soon\",\"sorry\",\"specified\",\"specify\",\"specifying\",\"still\",\"sub\",\"such\",\"sup\",\"sure\",\"take\",\"taken\",\"taking\",\"tell\",\"tends\",\"th\",\"than\",\"thank\",\"thanks\",\"thanx\",\"that\",\"that'll\",\"thats\",\"that's\",\"that've\",\"the\",\"their\",\"theirs\",\"them\",\"themselves\",\"then\",\"thence\",\"there\",\"thereafter\",\"thereby\",\"there'd\",\"therefore\",\"therein\",\"there'll\",\"there're\",\"theres\",\"there's\",\"thereupon\",\"there've\",\"these\",\"they\",\"they'd\",\"they'll\",\"they're\",\"they've\",\"thing\",\"things\",\"think\",\"third\",\"thirty\",\"this\",\"thorough\",\"thoroughly\",\"those\",\"though\",\"three\",\"through\",\"throughout\",\"thru\",\"thus\",\"till\",\"to\",\"together\",\"too\",\"took\",\"toward\",\"towards\",\"tried\",\"tries\",\"truly\",\"try\",\"trying\",\"t's\",\"twice\",\"two\",\"un\",\"under\",\"underneath\",\"undoing\",\"unfortunately\",\"unless\",\"unlike\",\"unlikely\",\"until\",\"unto\",\"up\",\"upon\",\"upwards\",\"us\",\"use\",\"used\",\"useful\",\"uses\",\"using\",\"usually\",\"v\",\"value\",\"various\",\"versus\",\"very\",\"via\",\"viz\",\"vs\",\"want\",\"wants\",\"was\",\"wasn't\",\"way\",\"we\",\"we'd\",\"welcome\",\"well\",\"we'll\",\"went\",\"were\",\"we're\",\"weren't\",\"we've\",\"what\",\"whatever\",\"what'll\",\"what's\",\"what've\",\"when\",\"whence\",\"whenever\",\"where\",\"whereafter\",\"whereas\",\"whereby\",\"wherein\",\"where's\",\"whereupon\",\"wherever\",\"whether\",\"which\",\"whichever\",\"while\",\"whilst\",\"whither\",\"who\",\"who'd\",\"whoever\",\"whole\",\"who'll\",\"whom\",\"whomever\",\"who's\",\"whose\",\"why\",\"will\",\"willing\",\"wish\",\"with\",\"within\",\"without\",\"wonder\",\"won't\",\"would\",\"wouldn't\",\"yes\",\"yet\",\"you\",\"you'd\",\"you'll\",\"your\",\"you're\",\"yours\",\"yourself\",\"yourselves\",\"you've\",\"zero\",\"a\",\"how's\",\"i\",\"when's\",\"why's\",\"b\",\"c\",\"d\",\"e\",\"f\",\"g\",\"h\",\"j\",\"l\",\"m\",\"n\",\"o\",\"p\",\"q\",\"r\",\"s\",\"t\",\"u\",\"uucp\",\"w\",\"x\",\"y\",\"z\",\"I\",\"www\",\"amount\",\"bill\",\"bottom\",\"call\",\"computer\",\"con\",\"couldnt\",\"cry\",\"de\",\"describe\",\"detail\",\"due\",\"eleven\",\"empty\",\"fifteen\",\"fifty\",\"fill\",\"find\",\"fire\",\"forty\",\"front\",\"full\",\"give\",\"hasnt\",\"herse\",\"himse\",\"interest\",\"itse”\",\"mill\",\"move\",\"myse”\",\"part\",\"put\",\"show\",\"side\",\"sincere\",\"sixty\",\"system\",\"ten\",\"thick\",\"thin\",\"top\",\"twelve\",\"twenty\",\"abst\",\"accordance\",\"act\",\"added\",\"adopted\",\"affected\",\"affecting\",\"affects\",\"ah\",\"announce\",\"anymore\",\"apparently\",\"approximately\",\"aren\",\"arent\",\"arise\",\"auth\",\"beginning\",\"beginnings\",\"begins\",\"biol\",\"briefly\",\"ca\",\"date\",\"ed\",\"effect\",\"et-al\",\"ff\",\"fix\",\"gave\",\"giving\",\"heres\",\"hes\",\"hid\",\"home\",\"id\",\"im\",\"immediately\",\"importance\",\"important\",\"index\",\"information\",\"invention\",\"itd\",\"keys\",\"kg\",\"km\",\"largely\",\"lets\",\"line\",\"'ll\",\"means\",\"mg\",\"million\",\"ml\",\"mug\",\"na\",\"nay\",\"necessarily\",\"nos\",\"noted\",\"obtain\",\"obtained\",\"omitted\",\"ord\",\"owing\",\"page\",\"pages\",\"poorly\",\"possibly\",\"potentially\",\"pp\",\"predominantly\",\"present\",\"previously\",\"primarily\",\"promptly\",\"proud\",\"quickly\",\"ran\",\"readily\",\"ref\",\"refs\",\"related\",\"research\",\"resulted\",\"resulting\",\"results\",\"run\",\"sec\",\"section\",\"shed\",\"shes\",\"showed\",\"shown\",\"showns\",\"shows\",\"significant\",\"significantly\",\"similar\",\"similarly\",\"slightly\",\"somethan\",\"specifically\",\"state\",\"states\",\"stop\",\"strongly\",\"substantially\",\"successfully\",\"sufficiently\",\"suggest\",\"thered\",\"thereof\",\"therere\",\"thereto\",\"theyd\",\"theyre\",\"thou\",\"thoughh\",\"thousand\",\"throug\",\"til\",\"tip\",\"ts\",\"ups\",\"usefully\",\"usefulness\",\"'ve\",\"vol\",\"vols\",\"wed\",\"whats\",\"wheres\",\"whim\",\"whod\",\"whos\",\"widely\",\"words\",\"world\",\"youd\",\"youre\"]\n",
        "  dev_result_pos = []\n",
        "  for i in range(len(given_test)):\n",
        "    p_sum = 1\n",
        "    for j in given_test[i].split():\n",
        "      if j.lower() in stop_words:\n",
        "        continue\n",
        "      else:\n",
        "        if j in p_W_Positive.keys():\n",
        "          p_sum*=((count_occurances_pos[j.lower()]+alpha)/(pos_count+(k*alpha)))\n",
        "        else:\n",
        "          p_sum*=((alpha)/(pos_count+(k*alpha)))\n",
        "    p_sum=p_sum*p_fresh\n",
        "    dev_result_pos.append(p_sum)\n",
        "\n",
        "  dev_result_neg = []\n",
        "  for i in range(len(given_test)):\n",
        "    p_sum = 1\n",
        "    for j in given_test[i].split():\n",
        "      if j.lower() in stop_words:\n",
        "        continue\n",
        "      else:\n",
        "        if j in p_W_Negative.keys():\n",
        "          p_sum*=((count_occurances_neg[j.lower()]+alpha)/(pos_count+(k*alpha))) \n",
        "        else:\n",
        "          p_sum*=((alpha)/(pos_count+(k*alpha)))\n",
        "    p_sum=p_sum*p_fresh\n",
        "    dev_result_neg.append(p_sum)\n",
        "  return dev_result_neg,dev_result_pos"
      ],
      "metadata": {
        "id": "q2paI3vODZe6"
      },
      "execution_count": 30,
      "outputs": []
    },
    {
      "cell_type": "code",
      "source": [
        "count_occurances_neg, count_occurances_pos = datapre_process()\n",
        "dev_result_neg,dev_result_pos = laplace_stopwords(1,review_development,count_occurances_neg, count_occurances_pos)\n",
        "pred = prediction(dev_result_neg,dev_result_pos)\n",
        "temp = acc(pred,freshness_development)\n",
        "print(f'The Final Testing accuracy with the best parameters is : {temp*100} %')"
      ],
      "metadata": {
        "colab": {
          "base_uri": "https://localhost:8080/"
        },
        "id": "azNOs4npE87Z",
        "outputId": "77878a32-e4e1-4a64-c385-32c1cf6ad218"
      },
      "execution_count": 31,
      "outputs": [
        {
          "output_type": "stream",
          "name": "stdout",
          "text": [
            "The Final Testing accuracy with the best parameters is : 75.98699972916101 %\n"
          ]
        }
      ]
    },
    {
      "cell_type": "markdown",
      "source": [
        "Contribution: we tried to remove the stop words from a reviews because they are very common and we should go on unique values that determine positive and negetive but as shown in accuracy removing stop words overall reduced our accuracy so they are also as important as every other word in a review for a naive bayes mode. "
      ],
      "metadata": {
        "id": "Nisa5bFlGCq2"
      }
    },
    {
      "cell_type": "markdown",
      "source": [
        "# Testing our Model"
      ],
      "metadata": {
        "id": "NvFX4YoF7Dsl"
      }
    },
    {
      "cell_type": "code",
      "source": [
        "count_occurances_neg, count_occurances_pos = datapre_process()\n",
        "dev_result_neg,dev_result_pos = laplace_smoothing(1,review_development,count_occurances_neg, count_occurances_pos)\n",
        "pred = prediction(dev_result_neg,dev_result_pos)\n",
        "temp = acc(pred,freshness_development)\n",
        "print(f'The best development accuracy with the best parameters is : {temp*100} %')"
      ],
      "metadata": {
        "colab": {
          "base_uri": "https://localhost:8080/"
        },
        "id": "NWavrO8XHIVE",
        "outputId": "ddde5636-c08b-4464-f015-436e6ab95acf"
      },
      "execution_count": 32,
      "outputs": [
        {
          "output_type": "stream",
          "name": "stdout",
          "text": [
            "The best development accuracy with the best parameters is : 77.51203150065626 %\n"
          ]
        }
      ]
    },
    {
      "cell_type": "code",
      "source": [
        "count_occurances_neg, count_occurances_pos = datapre_process()\n",
        "dev_result_neg,dev_result_pos = laplace_smoothing(1,review_test,count_occurances_neg, count_occurances_pos)\n",
        "pred = prediction(dev_result_neg,dev_result_pos)\n",
        "temp = acc(pred,freshness_test)\n",
        "print(f'The Final Testing accuracy with the best parameters is : {temp*100} %')"
      ],
      "metadata": {
        "colab": {
          "base_uri": "https://localhost:8080/"
        },
        "id": "PU69Jysu7DIj",
        "outputId": "2d79b63e-6f2f-490e-8ea9-1ef367830740"
      },
      "execution_count": 33,
      "outputs": [
        {
          "output_type": "stream",
          "name": "stdout",
          "text": [
            "The Final Testing accuracy with the best parameters is : 77.59536657013687 %\n"
          ]
        }
      ]
    }
  ],
  "metadata": {
    "colab": {
      "provenance": [],
      "mount_file_id": "1YZrl6mxkO39RIqv1JREL6JDW7gr5vYwR",
      "authorship_tag": "ABX9TyMzl2uK5cYZRLsmAJIkcQul",
      "include_colab_link": true
    },
    "kernelspec": {
      "display_name": "Python 3",
      "name": "python3"
    },
    "language_info": {
      "name": "python"
    }
  },
  "nbformat": 4,
  "nbformat_minor": 0
}